{
 "cells": [
  {
   "cell_type": "markdown",
   "metadata": {},
   "source": [
    "# Agentes y sistemas multi-agente"
   ]
  },
  {
   "cell_type": "code",
   "execution_count": 1,
   "metadata": {},
   "outputs": [
    {
     "data": {
      "text/plain": [
       "True"
      ]
     },
     "execution_count": 1,
     "metadata": {},
     "output_type": "execute_result"
    }
   ],
   "source": [
    "# Instala las dependencias\n",
    "# !poetry add langgraph langchain langchain-openai langchain-core langchain-community pandas matplotlib langchain-experimental\n",
    "\n",
    "# Carga las variables de ambiente\n",
    "from dotenv import load_dotenv\n",
    "\n",
    "load_dotenv()"
   ]
  },
  {
   "cell_type": "markdown",
   "metadata": {},
   "source": [
    "## Agentes"
   ]
  },
  {
   "cell_type": "markdown",
   "metadata": {},
   "source": [
    "### ¿Qué es un agente?\n",
    "\n",
    "Software capaz de utilizar a los LLMs como motor de razonamiento que ejecuta acciones por sí solo, recabando datos o interactuando con herramientas,  y llevando a cabo tareas complejas de principio a fin."
   ]
  },
  {
   "cell_type": "markdown",
   "metadata": {},
   "source": [
    "### ¿Cómo programar un agente?\n",
    "\n",
    "En nuestro caso, estamos creando un agente encargado de la ejecución de cálculos matemáticos, pues bien sabemos que los LLMs son terribles en este campo.\n",
    "\n",
    "Primero plasmamos en un prompt el rol del agente o su personalidad y las metas u objetivos que debe cumplir. En nuestro caso, estamos creando un agente encargado de la ejecución de cálculos matemáticos, pues bien sabemos que los LLMs son terribles en este campo."
   ]
  },
  {
   "cell_type": "code",
   "execution_count": 2,
   "metadata": {},
   "outputs": [],
   "source": [
    "from langchain_core.prompts import ChatPromptTemplate, MessagesPlaceholder\n",
    "\n",
    "system_prompt = \"\"\"Eres una calculadora avanzada y de última tecnología.\n",
    "Tu objetivo es extraer la operación matemática del input del usuario y escribirla en Python.\n",
    "Luego debes ejecutar la operación con la función dada para este propósito y dar una respuesta precisa.\n",
    "===\n",
    "Pregunta del usuario: {input}\n",
    "===\n",
    "\"\"\"\n",
    "\n",
    "prompt = ChatPromptTemplate.from_messages(\n",
    "    [\n",
    "        (\n",
    "            \"system\",\n",
    "            system_prompt\n",
    "        ),\n",
    "        MessagesPlaceholder(variable_name=\"chat_history\"),\n",
    "        MessagesPlaceholder(variable_name=\"agent_scratchpad\"), # Memoria funcional del Agente\n",
    "\n",
    "    ]\n",
    ")"
   ]
  },
  {
   "cell_type": "markdown",
   "metadata": {},
   "source": [
    "Segundo, debes implementar las herramientas que están al alcance del agente. En nuestro caso, crearemos una herramienta para evaluar operaciones matemáticas escritas en sintaxis de Python"
   ]
  },
  {
   "cell_type": "code",
   "execution_count": 3,
   "metadata": {},
   "outputs": [],
   "source": [
    "def calculation_func(operation: str) -> float:\n",
    "    \"\"\"\n",
    "    Ejecuta la operación matemáticas recibida en sintaxis de Python.\n",
    "\n",
    "    Args:\n",
    "        operation (str): La operación matemática a ejecutar.\n",
    "\n",
    "    Returns:\n",
    "        float: El resultado de la operación.\n",
    "    \"\"\"\n",
    "    print(\"Operación recibida:\", operation)\n",
    "    return eval(operation)\n"
   ]
  },
  {
   "cell_type": "markdown",
   "metadata": {},
   "source": [
    "A partir de nuestra herramienta creamos un `StructuredTool`, una abstracción de LangChain, que encapsula a las funciones, y las documenta bien, para que los agentes hagan uso de ellas."
   ]
  },
  {
   "cell_type": "code",
   "execution_count": 4,
   "metadata": {},
   "outputs": [],
   "source": [
    "from langchain_core.tools import StructuredTool\n",
    "\n",
    "calculation_tool = StructuredTool.from_function(\n",
    "    func=calculation_func,\n",
    "    name=\"ExecuteMathOperation\",\n",
    "    description=\"Usa esta función para ejecutar operaciones matemáticas escritas en sintaxis de Python.\",\n",
    ")\n",
    "\n",
    "tools = [calculation_tool]"
   ]
  },
  {
   "cell_type": "markdown",
   "metadata": {},
   "source": [
    "Ahora solo es cuestion de poner las piezas juntas utilizando las abstracciones proveidas por LangChain y LangGraph para este proposito. \n",
    "\n",
    "En este caso, utilizamos la funcion `create_openai_functions_agent` y especificamos que LLM deseamos sea el motor de razonamiento, que herramientas estan disponibles, y el prompt del sistema"
   ]
  },
  {
   "cell_type": "code",
   "execution_count": 5,
   "metadata": {},
   "outputs": [],
   "source": [
    "import os\n",
    "from langchain_openai import AzureChatOpenAI\n",
    "from langchain.agents import AgentExecutor, create_openai_functions_agent\n",
    "from langchain_core.pydantic_v1 import SecretStr\n",
    "\n",
    "llm = AzureChatOpenAI(\n",
    "    api_key=SecretStr(os.environ[\"AZURE_OPENAI_API_KEY\"]),\n",
    "    azure_endpoint=os.environ[\"AZURE_OPENAI_API_ENDPOINT\"],\n",
    "    api_version=os.environ[\"AZURE_OPENAI_API_VERSION\"],\n",
    "    azure_deployment=\"gpt-4\",\n",
    ")\n",
    "\n",
    "agent = create_openai_functions_agent(llm, tools, prompt)\n",
    "agent_executor = AgentExecutor(agent=agent, tools=tools) # type: ignore"
   ]
  },
  {
   "cell_type": "code",
   "execution_count": 6,
   "metadata": {},
   "outputs": [
    {
     "name": "stdout",
     "output_type": "stream",
     "text": [
      "Operación recibida: 3.141592653589793 * (3 ** 2)\n"
     ]
    },
    {
     "data": {
      "text/plain": [
       "{'input': '¿Cuál es el área de un círculo de radio 3?',\n",
       " 'chat_history': [],\n",
       " 'output': 'El área de un círculo con un radio de 3 es aproximadamente 28.27 unidades cuadradas.'}"
      ]
     },
     "execution_count": 6,
     "metadata": {},
     "output_type": "execute_result"
    }
   ],
   "source": [
    "agent_executor.invoke({\n",
    "    \"input\": \"¿Cuál es el área de un círculo de radio 3?\",\n",
    "    \"chat_history\": [],\t\n",
    "})"
   ]
  },
  {
   "cell_type": "markdown",
   "metadata": {},
   "source": [
    "## Sistemas multi-agente"
   ]
  },
  {
   "cell_type": "markdown",
   "metadata": {},
   "source": [
    "Un sistema multi-agente, es una colección de agentes especializados que trabajan en conjunto para la ejecución exitosa de una tarea compleja, simulando en muchas veces como nosotros los humanos dividimos el trabajo."
   ]
  },
  {
   "cell_type": "markdown",
   "metadata": {},
   "source": [
    "### ¿Cómo programar un sistema multi-agente?"
   ]
  },
  {
   "cell_type": "markdown",
   "metadata": {},
   "source": [
    "Para lograrlo, existen igualmente una infinidad de librerías, entre las que se destacan CrewAI, AutoGen y LangGraph. Para el propósito de nuestro demo, usaremos LangGraph.\n",
    "\n",
    "Programemos entonces un sistema multi-agente, y llevemos las capacidades de nuestra demostración al siguiente nivel: Crearemos un sistema capaz de explicar complejos conceptos matemáticos de manera escrita y de manera gráfica.\n",
    "\n",
    "Vamos entonces a tener tres agentes: El primero es un profesor, que buscará en sus datos de entrenamiento y la web los conceptos detrás de un tema matemático que deseamos sea explicado.\n",
    "\n",
    "En segundo lugar, tenemos a un desarrollador, que implementará código Python para simular el concepto matemático solicitado.\n",
    "\n",
    "Y finalmente, el tercer agente, es un supervisor encargado de orquestar los esfuerzos de los especialistas y lograr la consecución del objetivo."
   ]
  },
  {
   "cell_type": "markdown",
   "metadata": {},
   "source": [
    "#### 1. Agente profesor"
   ]
  },
  {
   "cell_type": "markdown",
   "metadata": {},
   "source": [
    "Empecemos por nuestro primer agente: realizamos la creación del prompt, estableciendo su personalidad y sus metas.\n",
    "\n",
    "Y al igual que nuestro ejemplo anterior, nuestro agente tendrá acceso al historial del chat y al scratchpad que serán añadidos en el input enviado al LLM."
   ]
  },
  {
   "cell_type": "code",
   "execution_count": 7,
   "metadata": {},
   "outputs": [],
   "source": [
    "from langchain_core.prompts import ChatPromptTemplate, MessagesPlaceholder\n",
    "\n",
    "\n",
    "mathematician_prompt_template = \"\"\"Eres un profesor veterano de matemáticas.\n",
    "Los estudiantes solicitarán que les expliques temas y conceptos matemáticos complejos.\n",
    "Tu objetivo es explicar estos conceptos de la forma más sencilla posible.\n",
    "Si no tienes la respuesta, puedes usar el buscador de Tavily para encontrar la respuesta en la web.\n",
    "¡Fuiste escogido por una razón!\n",
    "No pidas clarificaciones, solo responde a la pregunta.\n",
    "\"\"\"\n",
    "\n",
    "mathematician_prompt = ChatPromptTemplate.from_messages(\n",
    "    [\n",
    "        (\n",
    "            \"system\",\n",
    "            mathematician_prompt_template\n",
    "        ),\n",
    "        MessagesPlaceholder(variable_name=\"chat_history\"),\n",
    "        MessagesPlaceholder(variable_name=\"agent_scratchpad\"), # Memoria funcional del Agente\n",
    "\n",
    "    ]\n",
    ")"
   ]
  },
  {
   "cell_type": "markdown",
   "metadata": {},
   "source": [
    "El profesor tendrá acceso a una herramienta pre-construida y disponible dentro de las capacidades de LangChain.\n",
    "\n",
    "Esta herramienta hace uso de `TavilySearch`, un buscador que les permite a los agentes explorar la web y llenar cualquier vacío que tengan en sus datos de entrenamiento."
   ]
  },
  {
   "cell_type": "code",
   "execution_count": 8,
   "metadata": {},
   "outputs": [],
   "source": [
    "from langchain_community.tools.tavily_search import TavilySearchResults\n",
    "\n",
    "tavily_search_tool = TavilySearchResults(max_results=5)"
   ]
  },
  {
   "cell_type": "markdown",
   "metadata": {},
   "source": [
    "Ya con estos dos elementos, podemos proceder a crear el Agente, del mismo modo que en nuestro ejercicio pasado"
   ]
  },
  {
   "cell_type": "code",
   "execution_count": 9,
   "metadata": {},
   "outputs": [],
   "source": [
    "from langchain.agents import AgentExecutor, create_openai_functions_agent\n",
    "\n",
    "professor_tools = [tavily_search_tool]\n",
    "professor_agent = create_openai_functions_agent(llm, professor_tools, mathematician_prompt)\n",
    "professor = AgentExecutor(agent=professor_agent, tools=professor_tools)  # type: ignore"
   ]
  },
  {
   "cell_type": "markdown",
   "metadata": {},
   "source": [
    "Posteriormente, creamos la personalidad y metas de nuestro agente desarrollador, un especialista en la creación de código Python capaz de simular e ilustrar los complejos conceptos matemáticos preguntados.\n",
    "\n",
    "Después creamos una instancia de nuestro `ChatPromptTemplate` con los mismos parámetros de nuestros agentes anteriores."
   ]
  },
  {
   "cell_type": "code",
   "execution_count": 10,
   "metadata": {},
   "outputs": [],
   "source": [
    "from langchain_core.prompts import ChatPromptTemplate, MessagesPlaceholder\n",
    "\n",
    "\n",
    "developer_prompt_template = \"\"\"Eres un experto en matemáticas y desarrollo de software.\n",
    "Los usuarios solicitarán que generes conjuntos de datos que simulen el comportamiento de una función matemática.\n",
    "Puedes generar código en Python que genere estos datos y luego ejecutarlo para obtener los resultados.\n",
    "Puedes usar Matplotlib en las herramientas que tienes a tu disposición y visualizar los datos generados.\n",
    "Usa la herramienta para ejecutar el código y obtener los resultados.\n",
    "¡Fuiste escogido por una razón!.\n",
    "No pidas clarificaciones, solo responde a la pregunta.\n",
    "\"\"\"\n",
    "\n",
    "developer_prompt = ChatPromptTemplate.from_messages(\n",
    "    [\n",
    "        (\n",
    "            \"system\",\n",
    "            developer_prompt_template\n",
    "        ),\n",
    "        MessagesPlaceholder(variable_name=\"chat_history\"),\n",
    "        MessagesPlaceholder(variable_name=\"agent_scratchpad\"), # Memoria funcional del Agente\n",
    "\n",
    "    ]\n",
    ")"
   ]
  },
  {
   "cell_type": "markdown",
   "metadata": {},
   "source": [
    "Procedemos ahora, a implementar las herramientas, en este caso, un método en Python que le permitirá la ejecución de código al agente y mostrará gráficas con la ayuda de `NumPy` y `Matplotlib`, dos librerías de análisis estadístico y matemático, extremadamente populares en Python."
   ]
  },
  {
   "cell_type": "code",
   "execution_count": 11,
   "metadata": {},
   "outputs": [],
   "source": [
    "from langchain_experimental.utilities import PythonREPL\n",
    "\n",
    "repl = PythonREPL()\n",
    "\n",
    "def python_repl_func(\n",
    "    code: str,\n",
    ") -> str:\n",
    "    \"\"\"\n",
    "    Usa este método para ejecutar código Python.\n",
    "    Si deseas ver la salida de un valor, debes imprimirlo con `print(...)`.\n",
    "    Esto es visible para el usuario.\n",
    "    Usa Matplotlib para visualizar los datos generados.\n",
    "\n",
    "    Args:\n",
    "        code (str): El código Python a ejecutar.\n",
    "    \"\"\"\n",
    "    try:\n",
    "        result = repl.run(code)\n",
    "    except BaseException as e:\n",
    "        return f\"La ejecución fallo. Error: {repr(e)}\"\n",
    "    return f\"Ejecución exitosa:\\n```python\\n{code}\\n```\\nStdout: {result}\"\n",
    "\n",
    "python_code_execution_tool = StructuredTool.from_function(\n",
    "    func=python_repl_func,\n",
    "    name=\"ExecutePythonCode\",\n",
    "    description=\"Usa este metodo para ejecutar código Python.\",\n",
    ")\n"
   ]
  },
  {
   "cell_type": "markdown",
   "metadata": {},
   "source": [
    "Y nuevamente instanciamos el agente junto con sus herramientas y su `AgentExecutor`"
   ]
  },
  {
   "cell_type": "code",
   "execution_count": 12,
   "metadata": {},
   "outputs": [],
   "source": [
    "from langchain.agents import AgentExecutor, create_openai_functions_agent\n",
    "\n",
    "developer_tools = [python_code_execution_tool]\n",
    "developer_agent = create_openai_functions_agent(llm, developer_tools, developer_prompt)\n",
    "developer = AgentExecutor(agent=developer_agent, tools=developer_tools)  # type: ignore"
   ]
  },
  {
   "cell_type": "markdown",
   "metadata": {},
   "source": [
    "Y llegó el momento de crear a nuestro supervisor, un agente cuyo trabajo es bastante simple: definir a qué miembro del equipo llamar, para solucionar el problema dado.\n",
    "\n",
    "En nuestro caso, estará en la potestad de llamar al profesor para explicar los conceptos, y una vez claros, al desarrollador para demostrarlos desde una perspectiva gráfica.\n",
    "\n",
    "Es su trabajo también decidir cuándo el trabajo se ha completado exitosamente, y finalizar la acción del equipo.\n",
    "\n",
    "En la creación del supervisor, tomamos ventaja de la funcionalidad de OpenAI denominada, `function calling`.\n",
    "\n",
    "Esta capacidad permite especificar funciones que el LLM puede ejecutar de manera remota, y retornara una respuesta estructurada, en este caso, un JSON con un atributo `next`, que especifica la decisión del supervisor, en cuanto a quién debe ser llamado ahora para ejecutar el siguiente paso."
   ]
  },
  {
   "cell_type": "code",
   "execution_count": 13,
   "metadata": {},
   "outputs": [],
   "source": [
    "from langchain_core.prompts import ChatPromptTemplate, MessagesPlaceholder\n",
    "\n",
    "options = [\"FINISH\", \"profesor\", \"desarrollador\"]\n",
    "function_def = {\n",
    "    \"name\": \"route\",\n",
    "    \"description\": \"Selecciona el siguiente rol.\", \n",
    "    \"parameters\": {\n",
    "        \"title\": \"routeSchema\",\n",
    "        \"type\": \"object\",\n",
    "        \"properties\": {\n",
    "            \"next\": {\n",
    "                \"title\": \"Next\",\n",
    "                \"anyOf\": [{\n",
    "                    \"enum\": options,\n",
    "                }],\n",
    "            },\n",
    "        },\n",
    "        \"required\": [\"next\"],\n",
    "    },\n",
    "}\n",
    "\n",
    "supervisor_prompt_template = \"\"\"Eres el supervisor de una academia de matemáticas.\n",
    "Tu deber es manejar la conversación entre los siguientes trabajadores: {workers}\n",
    "Dado el siguiente request de un estudiante, debes responder con el nombre del experto que debe actuar ahora.\n",
    "Cada experto va a ejecutar una tarea y responder con sus resultados y status\n",
    "Cuando todo haya terminado, debes responder con FINISH.\"\"\"\n",
    "supervisor_prompt = ChatPromptTemplate.from_messages([\n",
    "    (\"system\", supervisor_prompt_template),\n",
    "    MessagesPlaceholder(variable_name=\"chat_history\"),\n",
    "    (\n",
    "        \"system\", \n",
    "        \"Dada la conversación arriba,\"\n",
    "        \"¿Quién debería actuar ahora?\" \n",
    "        \"¿O deberíamos terminar con FINISH?\"\n",
    "        \"Selecciona una de las opciones: {options}\"\n",
    "    ),\n",
    "]).partial(options=str(options), workers=\", \".join([\"profesor\", \"desarrollador\"]))"
   ]
  },
  {
   "cell_type": "markdown",
   "metadata": {},
   "source": [
    "El supervisor será ejecutado a través de una cadena de LangChain, que especifica su prompt, el LLM junto con su configuración, en este caso, la ejecución de la función definida, y finalmente el procesamiento de la respuesta generada en formato JSON."
   ]
  },
  {
   "cell_type": "code",
   "execution_count": 14,
   "metadata": {},
   "outputs": [],
   "source": [
    "from langchain_core.output_parsers.openai_functions import JsonOutputFunctionsParser\n",
    "\n",
    "supervisor_chain = (\n",
    "    supervisor_prompt\n",
    "    | llm.bind_functions(functions=[function_def], function_call=\"route\")\n",
    "    | JsonOutputFunctionsParser()\n",
    ")"
   ]
  },
  {
   "cell_type": "markdown",
   "metadata": {},
   "source": [
    "Ahora debemos poner todas las piezas juntas utilizando un grafo de LangGraph, es decir, una estructura que, a partir de nodos y aristas, específica como interactúan nuestros agentes.\n",
    "\n",
    "Cada nodo corresponde a un agente disponible y cada arista representa la función de activación de los nodos, en este caso, la decisión del supervisor.\n",
    "\n",
    "LangGraph permite la implementación de grafos stateful o con estado, es decir, conserva en memoria el historial de cada salto entre nodos, además del output de cada paso ejecutado.\n",
    "\n",
    "Permitiendo la reejecución de pasos independientes del grafo, y ayudándonos a entender cómo los datos se transformaron a lo largo del viaje entre las aristas y los nodos.\n",
    "\n",
    "Esto lo logra a partir de la instanciación de una clase de estado, un objeto compartido y modificado durante la ejecución, y que, en caso de error, conserva los datos del último paso exitoso.\n",
    "\n",
    "Hagamos entonces la implementación del estado de nuestra aplicación, en este caso, una clase que se asemeja a un diccionario, y que conserva el historial de mensajes, y el siguiente paso a ejecutar."
   ]
  },
  {
   "cell_type": "code",
   "execution_count": 15,
   "metadata": {},
   "outputs": [],
   "source": [
    "import operator\n",
    "from typing import Sequence, TypedDict, Annotated\n",
    "from langchain_core.messages import BaseMessage\n",
    "\n",
    "# El estado del agente es el input de cada nodo en el grafo\n",
    "class AgentState(TypedDict):\n",
    "    # La anotación le indica al grafo que todo nuevo mensaje o output de su ejecución\n",
    "    # seran añadidos a la conversación\n",
    "    chat_history: Annotated[Sequence[BaseMessage], operator.add]\n",
    "    # El campo `next`, indica el siguiente nodo a ejecutar\n",
    "    next: str"
   ]
  },
  {
   "cell_type": "markdown",
   "metadata": {},
   "source": [
    "Y ya casi tenemos todo listo para construir nuestro grafo, nos hace falta solo un pequeño detalle: debemos crear una función que especifique cómo lucirán los nodos en el grafo, y que se hace cargo de convertir la respuesta del agente, en un `AIMessage`, es decir, una entrada añadida al historial de chat que hace parte del estado del grafo.\n",
    "\n",
    "Esta función espera el objeto con el estado actual, el agente que se va a ejecutar, y el nombre que recibirá el nodo."
   ]
  },
  {
   "cell_type": "code",
   "execution_count": 16,
   "metadata": {},
   "outputs": [],
   "source": [
    "import uuid\n",
    "from typing import Any\n",
    "from langchain.agents import AgentExecutor\n",
    "from langchain_core.messages import AIMessage\n",
    "\n",
    "def agent_node(\n",
    "    state,\n",
    "    agent: AgentExecutor,\n",
    "    name: str,\n",
    ") -> dict[str, Any]:\n",
    "    \"\"\"\n",
    "    Función que ejecuta el agente al ingresar al nodo de un grafo.\n",
    "\n",
    "    Args:\n",
    "        state: El objeto que contiene el estado del grafo\n",
    "        agent(AgentExecutor): El agente a ejecutar\n",
    "        name(str): El nombre del nodo\n",
    "\n",
    "    Returns:\n",
    "        dict: La respuesta del agente\n",
    "    \"\"\"\n",
    "    result = agent.invoke(state)\n",
    "    return {\n",
    "        \"chat_history\": [\n",
    "            AIMessage(\n",
    "                id=str(uuid.uuid4()),\n",
    "                content=result[\"output\"],\n",
    "                name=name,\n",
    "            )\n",
    "        ]\n",
    "    }"
   ]
  },
  {
   "cell_type": "markdown",
   "metadata": {},
   "source": [
    "Y ahora sí, podemos poner todas nuestras piezas juntas y crear el famosísimo grafo.\n",
    "\n",
    "Creamos los nodos de nuestros agentes profesor y desarrollador  con ayuda de la función agent_node creada."
   ]
  },
  {
   "cell_type": "code",
   "execution_count": 17,
   "metadata": {},
   "outputs": [],
   "source": [
    "import functools\n",
    "\n",
    "# Primero creamos nuestros nodos usando la función `agent_node`. \n",
    "professor_node = functools.partial(agent_node, agent=professor, name=\"profesor\") \n",
    "developer_node = functools.partial(agent_node, agent=developer, name=\"desarrollador\")"
   ]
  },
  {
   "cell_type": "markdown",
   "metadata": {},
   "source": [
    "Añadimos los nodos al grafo: el `supervisor` enlazado a la cadena que creamos para su ejecución, y el `profesor` y el `desarrollador` enlazados a sus nodos respectivos.\n",
    "\n",
    "Y añadimos las aristas, que especifican que el `supervisor` se puede comunicar con el `profesor` y también con el `desarrollador`."
   ]
  },
  {
   "cell_type": "code",
   "execution_count": 18,
   "metadata": {},
   "outputs": [],
   "source": [
    "from langgraph.graph import END, StateGraph\n",
    "\n",
    "# Primero creamos el grafo\n",
    "graph = StateGraph(AgentState)\n",
    "\n",
    "# Luego añadimos los nodos al grafo\n",
    "graph.add_node(\"supervisor\", supervisor_chain) # El supervisor usa el chain creado\n",
    "graph.add_node(\"profesor\", professor_node)\n",
    "graph.add_node(\"desarrollador\", developer_node)\n",
    "\n",
    "# Finalmente añadimos las aristas que conectan los nodos\n",
    "# En este caso, el profesor y el desarrollador se comunican con el supervisor\n",
    "graph.add_edge(\"profesor\", \"supervisor\")\n",
    "graph.add_edge(\"desarrollador\", \"supervisor\")"
   ]
  },
  {
   "cell_type": "markdown",
   "metadata": {},
   "source": [
    "Para poder realizar la navegación a través de las aristas del grafo, se crea un mapa condicional y los `conditional_edges`, es decir, lógica que le instruye a LangGraph, que a través del atributo next de la respuesta del supervisor se dará salto al nodo siguiente."
   ]
  },
  {
   "cell_type": "code",
   "execution_count": 19,
   "metadata": {},
   "outputs": [
    {
     "name": "stdout",
     "output_type": "stream",
     "text": [
      "Mapa condicional: {'profesor': 'profesor', 'desarrollador': 'desarrollador', 'FINISH': '__end__'}\n"
     ]
    }
   ],
   "source": [
    "from langgraph.graph import END\n",
    "\n",
    "# Creación del mapa condicional\n",
    "conditional_map = {k: k for k in [\"profesor\", \"desarrollador\"]}\n",
    "conditional_map[\"FINISH\"] = END\n",
    "print(\"Mapa condicional:\", conditional_map)\n",
    "\n",
    "# Añadimos las aristas condicionales al grafo\n",
    "graph.add_conditional_edges(\"supervisor\", lambda x: x[\"next\"], conditional_map) # type: ignore"
   ]
  },
  {
   "cell_type": "markdown",
   "metadata": {},
   "source": [
    "Y finalmente especificamos cuál es el nodo inicial del grafo, en nuestro caso, el `supervisor`"
   ]
  },
  {
   "cell_type": "code",
   "execution_count": 20,
   "metadata": {},
   "outputs": [],
   "source": [
    "from langgraph.graph import START\n",
    "\n",
    "graph.add_edge(START, \"supervisor\")"
   ]
  },
  {
   "cell_type": "markdown",
   "metadata": {},
   "source": [
    "Ya con esto tenemos todo listo, compilamos nuestro grafo."
   ]
  },
  {
   "cell_type": "code",
   "execution_count": 21,
   "metadata": {},
   "outputs": [],
   "source": [
    "agent_team = graph.compile()"
   ]
  },
  {
   "cell_type": "markdown",
   "metadata": {},
   "source": [
    "Y si deseamos verificar que es correcto, podemos graficarlo para validar su configuración."
   ]
  },
  {
   "cell_type": "code",
   "execution_count": 22,
   "metadata": {},
   "outputs": [
    {
     "data": {
      "image/jpeg": "[encoded data removed]",
      "text/plain": [
       "<IPython.core.display.Image object>"
      ]
     },
     "metadata": {
      "image/jpeg": {
       "width": 620
      }
     },
     "output_type": "display_data"
    }
   ],
   "source": [
    "from IPython.display import Image, display\n",
    "\n",
    "display(Image(agent_team.get_graph().draw_mermaid_png(), width=620))"
   ]
  },
  {
   "cell_type": "markdown",
   "metadata": {},
   "source": [
    "Y ahora podemos invocar nuestro sistema multi-agente. Esto incluye también algo de magia de LangGraph: necesitas crear una configuración de ejecución y asignar a la nueva conversación un identificador único.\n",
    "\n",
    "Y a través del método `stream()` de nuestro sistema multi-agente, podremos ver en tiempo real, cada respuesta e interacción del `supervisor` con el `profesor` y el `desarrollador`\n",
    "\n",
    "En dicho método enviamos el mensaje inicial de la conversación. En este caso, le solicitamos a nuestro sistema que nos explique de manera sencilla la tangente de un ángulo."
   ]
  },
  {
   "cell_type": "code",
   "execution_count": 23,
   "metadata": {},
   "outputs": [
    {
     "name": "stdout",
     "output_type": "stream",
     "text": [
      "================================\u001b[1m Human Message \u001b[0m=================================\n",
      "\n",
      "¿Podrías explicarme de manera sencilla la tangente de un ángulo?\n",
      "                ¿Puedes ilustrarme el concepto de manera gráfica?\n",
      "----\n",
      "Next:  profesor\n",
      "==================================\u001b[1m Ai Message \u001b[0m==================================\n",
      "Name: profesor\n",
      "\n",
      "Claro, explicarte la tangente de un ángulo de manera sencilla es un placer.\n",
      "\n",
      "Imagina que tienes un triángulo rectángulo (uno de sus ángulos es de 90 grados). La tangente de uno de los ángulos agudos de este triángulo se define como la razón entre el cateto opuesto a ese ángulo y el cateto adyacente al mismo.\n",
      "\n",
      "Gráficamente, piensa en un sistema de coordenadas cartesianas con un círculo unitario (un círculo con radio 1) centrado en el origen (0,0). Cualquier ángulo puede trazarse desde el origen hacia un punto en el borde del círculo. Si ese ángulo está en la posición estándar (comenzando desde el eje positivo x y abriéndose hacia arriba), la tangente del ángulo se puede visualizar de la siguiente manera:\n",
      "\n",
      "1. Dibuja una línea desde el origen (0,0) hasta un punto en el círculo que represente tu ángulo.\n",
      "2. Desde ese punto en el círculo, traza una línea vertical hacia el eje x (esta línea es el cateto opuesto).\n",
      "3. El cateto adyacente es el segmento sobre el eje x desde el origen hasta donde la línea vertical tocó el eje.\n",
      "4. La tangente del ángulo es la longitud del cateto opuesto dividida por la longitud del cateto adyacente.\n",
      "\n",
      "Un aspecto clave de la tangente es que puede ser positiva o negativa, dependiendo del cuadrante en el que se encuentre el ángulo. Además, la tangente de un ángulo se repite cada 180 grados (o π radianes), lo que conocemos como periodicidad.\n",
      "\n",
      "Espero que esta explicación te haya ayudado a comprender mejor la tangente de un ángulo.\n",
      "----\n",
      "Next:  desarrollador\n"
     ]
    },
    {
     "name": "stderr",
     "output_type": "stream",
     "text": [
      "Python REPL can execute arbitrary code. Use with caution.\n"
     ]
    },
    {
     "data": {
      "image/png": "[encoded data removed]",
      "text/plain": [
       "<Figure size 640x480 with 1 Axes>"
      ]
     },
     "metadata": {},
     "output_type": "display_data"
    },
    {
     "name": "stdout",
     "output_type": "stream",
     "text": [
      "==================================\u001b[1m Ai Message \u001b[0m==================================\n",
      "Name: desarrollador\n",
      "\n",
      "Aquí tienes el gráfico de la función tangente:\n",
      "\n",
      "![Gráfico de la función tangente](sandbox:/mnt/data/tangent_plot.png)\n",
      "\n",
      "En este gráfico, el eje horizontal representa el ángulo en radianes y el eje vertical representa el valor de la tangente de ese ángulo. Puedes ver cómo la función tangente se vuelve indefinida (tiende a infinito o negativo infinito) cerca de múltiplos impares de π/2 (como π/2, 3π/2, etc.), que son los puntos donde el coseno es cero y la tangente, que es el seno dividido por el coseno, no está definida. Además, puedes observar la periodicidad de la función con un patrón que se repite cada π radianes.\n",
      "----\n",
      "Next:  FINISH\n"
     ]
    }
   ],
   "source": [
    "import uuid\n",
    "from langchain_core.runnables import RunnableConfig\n",
    "from langchain_core.messages import HumanMessage\n",
    "\n",
    "already_printed = []\n",
    "thread_id = str(uuid.uuid4())\n",
    "config = RunnableConfig(\n",
    "    {\n",
    "        \"recursion_limit\": 100, # No permitir más de 100 saltos entre nodos\n",
    "        \"configurable\": {\n",
    "            # Los checkpoints son accedidos mediante el thread_id\n",
    "            \"thread_id\": thread_id,\n",
    "        },\n",
    "    }\n",
    ")\n",
    "\n",
    "for event in agent_team.stream(\n",
    "    {\n",
    "        \"chat_history\": [\n",
    "            HumanMessage(\n",
    "                id=str(uuid.uuid4()),\n",
    "                content=\"\"\"¿Podrías explicarme de manera sencilla qué es la tangente de un ángulo?\n",
    "                ¿Puedes ilustrarme el concepto de manera gráfica?\"\"\",\n",
    "            )\n",
    "        ],\n",
    "    },\n",
    "    config,\n",
    "    stream_mode=\"values\",\n",
    "):\n",
    "    if \"__end__\" not in event:\n",
    "        history = event.get(\"chat_history\", [])\n",
    "        message = history[-1]\n",
    "        if message.id in already_printed:\n",
    "            print(\"Next: \", event.get(\"next\"))\n",
    "            continue\n",
    "        print(message.pretty_repr(html=True))\n",
    "        print(\"----\")\n",
    "        already_printed.append(message.id)"
   ]
  }
 ],
 "metadata": {
  "kernelspec": {
   "display_name": "langgraph-example-cDDYZWg1-py3.11",
   "language": "python",
   "name": "python3"
  },
  "language_info": {
   "codemirror_mode": {
    "name": "ipython",
    "version": 3
   },
   "file_extension": ".py",
   "mimetype": "text/x-python",
   "name": "python",
   "nbconvert_exporter": "python",
   "pygments_lexer": "ipython3",
   "version": "3.11.9"
  }
 },
 "nbformat": 4,
 "nbformat_minor": 2
}
